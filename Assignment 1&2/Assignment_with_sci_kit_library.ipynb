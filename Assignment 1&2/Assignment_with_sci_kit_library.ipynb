{
  "nbformat": 4,
  "nbformat_minor": 0,
  "metadata": {
    "kernelspec": {
      "display_name": "Python 3",
      "language": "python",
      "name": "python3"
    },
    "language_info": {
      "codemirror_mode": {
        "name": "ipython",
        "version": 3
      },
      "file_extension": ".py",
      "mimetype": "text/x-python",
      "name": "python",
      "nbconvert_exporter": "python",
      "pygments_lexer": "ipython3",
      "version": "3.8.5"
    },
    "colab": {
      "name": "Assignment with sci-kit library.ipynb",
      "provenance": []
    }
  },
  "cells": [
    {
      "cell_type": "code",
      "metadata": {
        "id": "QIC_vBRi9qot"
      },
      "source": [
        "import pandas as pd\n",
        "import numpy as np"
      ],
      "execution_count": 51,
      "outputs": []
    },
    {
      "cell_type": "code",
      "metadata": {
        "id": "zq_BP17S9qot"
      },
      "source": [
        "dataset = pd.read_csv(\"house_prices_data_training_data.csv\")"
      ],
      "execution_count": 52,
      "outputs": []
    },
    {
      "cell_type": "code",
      "metadata": {
        "id": "MRT7N2-K9qou",
        "colab": {
          "base_uri": "https://localhost:8080/",
          "height": 304
        },
        "outputId": "b8f3716b-8dbd-43f6-9919-17cd77f3a457"
      },
      "source": [
        "dataset.describe()"
      ],
      "execution_count": 53,
      "outputs": [
        {
          "output_type": "execute_result",
          "data": {
            "text/html": [
              "<div>\n",
              "<style scoped>\n",
              "    .dataframe tbody tr th:only-of-type {\n",
              "        vertical-align: middle;\n",
              "    }\n",
              "\n",
              "    .dataframe tbody tr th {\n",
              "        vertical-align: top;\n",
              "    }\n",
              "\n",
              "    .dataframe thead th {\n",
              "        text-align: right;\n",
              "    }\n",
              "</style>\n",
              "<table border=\"1\" class=\"dataframe\">\n",
              "  <thead>\n",
              "    <tr style=\"text-align: right;\">\n",
              "      <th></th>\n",
              "      <th>id</th>\n",
              "      <th>price</th>\n",
              "      <th>bedrooms</th>\n",
              "      <th>bathrooms</th>\n",
              "      <th>sqft_living</th>\n",
              "      <th>sqft_lot</th>\n",
              "      <th>floors</th>\n",
              "      <th>waterfront</th>\n",
              "      <th>view</th>\n",
              "      <th>condition</th>\n",
              "      <th>grade</th>\n",
              "      <th>sqft_above</th>\n",
              "      <th>sqft_basement</th>\n",
              "      <th>yr_built</th>\n",
              "      <th>yr_renovated</th>\n",
              "      <th>zipcode</th>\n",
              "      <th>lat</th>\n",
              "      <th>long</th>\n",
              "      <th>sqft_living15</th>\n",
              "      <th>sqft_lot15</th>\n",
              "    </tr>\n",
              "  </thead>\n",
              "  <tbody>\n",
              "    <tr>\n",
              "      <th>count</th>\n",
              "      <td>1.799900e+04</td>\n",
              "      <td>1.799900e+04</td>\n",
              "      <td>17999.000000</td>\n",
              "      <td>17999.000000</td>\n",
              "      <td>17999.000000</td>\n",
              "      <td>1.799900e+04</td>\n",
              "      <td>17999.000000</td>\n",
              "      <td>17999.000000</td>\n",
              "      <td>17999.000000</td>\n",
              "      <td>17999.000000</td>\n",
              "      <td>17999.000000</td>\n",
              "      <td>17999.000000</td>\n",
              "      <td>17999.000000</td>\n",
              "      <td>17999.000000</td>\n",
              "      <td>17999.000000</td>\n",
              "      <td>17999.000000</td>\n",
              "      <td>17999.000000</td>\n",
              "      <td>17999.000000</td>\n",
              "      <td>17999.000000</td>\n",
              "      <td>17999.000000</td>\n",
              "    </tr>\n",
              "    <tr>\n",
              "      <th>mean</th>\n",
              "      <td>4.567994e+09</td>\n",
              "      <td>5.330743e+05</td>\n",
              "      <td>3.362965</td>\n",
              "      <td>2.061601</td>\n",
              "      <td>2051.822323</td>\n",
              "      <td>1.575873e+04</td>\n",
              "      <td>1.433163</td>\n",
              "      <td>0.007834</td>\n",
              "      <td>0.242458</td>\n",
              "      <td>3.448525</td>\n",
              "      <td>7.592366</td>\n",
              "      <td>1749.742319</td>\n",
              "      <td>302.080004</td>\n",
              "      <td>1967.282349</td>\n",
              "      <td>90.253514</td>\n",
              "      <td>98078.069837</td>\n",
              "      <td>47.560211</td>\n",
              "      <td>-122.215112</td>\n",
              "      <td>1973.236735</td>\n",
              "      <td>13282.270737</td>\n",
              "    </tr>\n",
              "    <tr>\n",
              "      <th>std</th>\n",
              "      <td>2.862810e+09</td>\n",
              "      <td>3.644122e+05</td>\n",
              "      <td>0.934032</td>\n",
              "      <td>0.758632</td>\n",
              "      <td>902.744154</td>\n",
              "      <td>4.245514e+04</td>\n",
              "      <td>0.509663</td>\n",
              "      <td>0.088164</td>\n",
              "      <td>0.778857</td>\n",
              "      <td>0.667039</td>\n",
              "      <td>1.169495</td>\n",
              "      <td>805.427363</td>\n",
              "      <td>449.443008</td>\n",
              "      <td>27.940306</td>\n",
              "      <td>414.717703</td>\n",
              "      <td>54.124925</td>\n",
              "      <td>0.139644</td>\n",
              "      <td>0.139135</td>\n",
              "      <td>673.186870</td>\n",
              "      <td>27352.415012</td>\n",
              "    </tr>\n",
              "    <tr>\n",
              "      <th>min</th>\n",
              "      <td>1.000102e+06</td>\n",
              "      <td>7.500000e+04</td>\n",
              "      <td>0.000000</td>\n",
              "      <td>0.000000</td>\n",
              "      <td>370.000000</td>\n",
              "      <td>5.200000e+02</td>\n",
              "      <td>1.000000</td>\n",
              "      <td>0.000000</td>\n",
              "      <td>0.000000</td>\n",
              "      <td>1.000000</td>\n",
              "      <td>3.000000</td>\n",
              "      <td>370.000000</td>\n",
              "      <td>0.000000</td>\n",
              "      <td>1900.000000</td>\n",
              "      <td>0.000000</td>\n",
              "      <td>98001.000000</td>\n",
              "      <td>47.155900</td>\n",
              "      <td>-122.519000</td>\n",
              "      <td>399.000000</td>\n",
              "      <td>660.000000</td>\n",
              "    </tr>\n",
              "    <tr>\n",
              "      <th>25%</th>\n",
              "      <td>2.123049e+09</td>\n",
              "      <td>3.150000e+05</td>\n",
              "      <td>3.000000</td>\n",
              "      <td>1.500000</td>\n",
              "      <td>1410.000000</td>\n",
              "      <td>5.450500e+03</td>\n",
              "      <td>1.000000</td>\n",
              "      <td>0.000000</td>\n",
              "      <td>0.000000</td>\n",
              "      <td>3.000000</td>\n",
              "      <td>7.000000</td>\n",
              "      <td>1180.000000</td>\n",
              "      <td>0.000000</td>\n",
              "      <td>1950.000000</td>\n",
              "      <td>0.000000</td>\n",
              "      <td>98033.000000</td>\n",
              "      <td>47.465500</td>\n",
              "      <td>-122.327000</td>\n",
              "      <td>1490.000000</td>\n",
              "      <td>5419.500000</td>\n",
              "    </tr>\n",
              "    <tr>\n",
              "      <th>50%</th>\n",
              "      <td>3.905121e+09</td>\n",
              "      <td>4.470000e+05</td>\n",
              "      <td>3.000000</td>\n",
              "      <td>2.000000</td>\n",
              "      <td>1900.000000</td>\n",
              "      <td>7.904000e+03</td>\n",
              "      <td>1.000000</td>\n",
              "      <td>0.000000</td>\n",
              "      <td>0.000000</td>\n",
              "      <td>3.000000</td>\n",
              "      <td>7.000000</td>\n",
              "      <td>1530.000000</td>\n",
              "      <td>0.000000</td>\n",
              "      <td>1969.000000</td>\n",
              "      <td>0.000000</td>\n",
              "      <td>98065.000000</td>\n",
              "      <td>47.573000</td>\n",
              "      <td>-122.231000</td>\n",
              "      <td>1830.000000</td>\n",
              "      <td>7820.000000</td>\n",
              "    </tr>\n",
              "    <tr>\n",
              "      <th>75%</th>\n",
              "      <td>7.298010e+09</td>\n",
              "      <td>6.354750e+05</td>\n",
              "      <td>4.000000</td>\n",
              "      <td>2.500000</td>\n",
              "      <td>2500.000000</td>\n",
              "      <td>1.109600e+04</td>\n",
              "      <td>2.000000</td>\n",
              "      <td>0.000000</td>\n",
              "      <td>0.000000</td>\n",
              "      <td>4.000000</td>\n",
              "      <td>8.000000</td>\n",
              "      <td>2140.000000</td>\n",
              "      <td>600.000000</td>\n",
              "      <td>1990.000000</td>\n",
              "      <td>0.000000</td>\n",
              "      <td>98118.000000</td>\n",
              "      <td>47.679300</td>\n",
              "      <td>-122.127000</td>\n",
              "      <td>2336.500000</td>\n",
              "      <td>10346.000000</td>\n",
              "    </tr>\n",
              "    <tr>\n",
              "      <th>max</th>\n",
              "      <td>9.900000e+09</td>\n",
              "      <td>7.700000e+06</td>\n",
              "      <td>33.000000</td>\n",
              "      <td>8.000000</td>\n",
              "      <td>13540.000000</td>\n",
              "      <td>1.651359e+06</td>\n",
              "      <td>3.500000</td>\n",
              "      <td>1.000000</td>\n",
              "      <td>4.000000</td>\n",
              "      <td>5.000000</td>\n",
              "      <td>13.000000</td>\n",
              "      <td>9410.000000</td>\n",
              "      <td>4820.000000</td>\n",
              "      <td>2015.000000</td>\n",
              "      <td>2015.000000</td>\n",
              "      <td>98199.000000</td>\n",
              "      <td>47.777600</td>\n",
              "      <td>-121.315000</td>\n",
              "      <td>6110.000000</td>\n",
              "      <td>871200.000000</td>\n",
              "    </tr>\n",
              "  </tbody>\n",
              "</table>\n",
              "</div>"
            ],
            "text/plain": [
              "                 id         price  ...  sqft_living15     sqft_lot15\n",
              "count  1.799900e+04  1.799900e+04  ...   17999.000000   17999.000000\n",
              "mean   4.567994e+09  5.330743e+05  ...    1973.236735   13282.270737\n",
              "std    2.862810e+09  3.644122e+05  ...     673.186870   27352.415012\n",
              "min    1.000102e+06  7.500000e+04  ...     399.000000     660.000000\n",
              "25%    2.123049e+09  3.150000e+05  ...    1490.000000    5419.500000\n",
              "50%    3.905121e+09  4.470000e+05  ...    1830.000000    7820.000000\n",
              "75%    7.298010e+09  6.354750e+05  ...    2336.500000   10346.000000\n",
              "max    9.900000e+09  7.700000e+06  ...    6110.000000  871200.000000\n",
              "\n",
              "[8 rows x 20 columns]"
            ]
          },
          "metadata": {
            "tags": []
          },
          "execution_count": 53
        }
      ]
    },
    {
      "cell_type": "code",
      "metadata": {
        "id": "_Mg1laSY9qov"
      },
      "source": [
        "import sklearn"
      ],
      "execution_count": 54,
      "outputs": []
    },
    {
      "cell_type": "code",
      "metadata": {
        "id": "UHtl85169qov"
      },
      "source": [
        "dataset.dropna(inplace=True)\n",
        "X = dataset.iloc[:, 3:].values\n",
        "y = dataset.iloc[:, 2].values"
      ],
      "execution_count": 55,
      "outputs": []
    },
    {
      "cell_type": "code",
      "metadata": {
        "id": "ITKeUTww9qow"
      },
      "source": [
        "from sklearn.model_selection import train_test_split\n",
        "X_train, X_test, y_train, y_test = train_test_split(X, y, test_size = 0.3, random_state = 0)"
      ],
      "execution_count": 56,
      "outputs": []
    },
    {
      "cell_type": "code",
      "metadata": {
        "id": "pUwcI5PZ9qow",
        "colab": {
          "base_uri": "https://localhost:8080/"
        },
        "outputId": "f6687709-6bb6-4c8d-bdd9-2cae4b158b89"
      },
      "source": [
        "from sklearn.linear_model import LinearRegression\n",
        "regressor = LinearRegression()\n",
        "regressor.fit(X_train, y_train)"
      ],
      "execution_count": 57,
      "outputs": [
        {
          "output_type": "execute_result",
          "data": {
            "text/plain": [
              "LinearRegression(copy_X=True, fit_intercept=True, n_jobs=None, normalize=False)"
            ]
          },
          "metadata": {
            "tags": []
          },
          "execution_count": 57
        }
      ]
    },
    {
      "cell_type": "code",
      "metadata": {
        "id": "2Dyzb9lA9qox"
      },
      "source": [
        "y_pred = regressor.predict(X_test)"
      ],
      "execution_count": 58,
      "outputs": []
    },
    {
      "cell_type": "code",
      "metadata": {
        "id": "aE1J_AG9-EUy",
        "colab": {
          "base_uri": "https://localhost:8080/"
        },
        "outputId": "8f4f548e-3367-4ea8-c70a-88b30a43c5e5"
      },
      "source": [
        "print(y_pred)"
      ],
      "execution_count": 59,
      "outputs": [
        {
          "output_type": "stream",
          "text": [
            "[334437.94878076 711170.71670081 608717.28330946 ... 405833.08724415\n",
            " 305690.82933909 381003.75410795]\n"
          ],
          "name": "stdout"
        }
      ]
    },
    {
      "cell_type": "code",
      "metadata": {
        "id": "XHyhCgib9qoy",
        "colab": {
          "base_uri": "https://localhost:8080/"
        },
        "outputId": "61bc099c-27f3-468d-f444-f37aaae119c1"
      },
      "source": [
        "from sklearn.metrics import r2_score\n",
        "print(r2_score(y_test, y_pred)*100, \"%\")"
      ],
      "execution_count": 60,
      "outputs": [
        {
          "output_type": "stream",
          "text": [
            "69.4068507584144 %\n"
          ],
          "name": "stdout"
        }
      ]
    },
    {
      "cell_type": "code",
      "metadata": {
        "id": "cYvDBYDh9qo0",
        "colab": {
          "base_uri": "https://localhost:8080/"
        },
        "outputId": "af77d62c-c55e-4c78-a0a4-066ee1612bd7"
      },
      "source": [
        "from sklearn.linear_model import Ridge\n",
        "RegularizedRegressor = Ridge(alpha=500.0)\n",
        "RegularizedRegressor.fit(X_train, y_train)"
      ],
      "execution_count": 61,
      "outputs": [
        {
          "output_type": "execute_result",
          "data": {
            "text/plain": [
              "Ridge(alpha=500.0, copy_X=True, fit_intercept=True, max_iter=None,\n",
              "      normalize=False, random_state=None, solver='auto', tol=0.001)"
            ]
          },
          "metadata": {
            "tags": []
          },
          "execution_count": 61
        }
      ]
    },
    {
      "cell_type": "code",
      "metadata": {
        "id": "Rwutj0uW9qo0",
        "colab": {
          "base_uri": "https://localhost:8080/"
        },
        "outputId": "ff8339a6-2b9b-4c06-be74-cc9ebbbb25f7"
      },
      "source": [
        "y_pred = RegularizedRegressor.predict(X_test)\n",
        "print(r2_score(y_test, y_pred)*100, \"%\")"
      ],
      "execution_count": 62,
      "outputs": [
        {
          "output_type": "stream",
          "text": [
            "65.93556732077492 %\n"
          ],
          "name": "stdout"
        }
      ]
    },
    {
      "cell_type": "code",
      "metadata": {
        "id": "JjgaAP0j9qo2"
      },
      "source": [
        "def calc_acc(acc_score):\n",
        "  print(\"accuracies\",(acc_score))\n",
        "  print(\"Maximum accuracy\", acc_score[np.argmax(np.array(acc_score))]*100, \" fold #\", np.argmax(np.array(acc_score)))"
      ],
      "execution_count": 63,
      "outputs": []
    },
    {
      "cell_type": "code",
      "metadata": {
        "id": "vGqLaC1H9qo2",
        "colab": {
          "base_uri": "https://localhost:8080/"
        },
        "outputId": "d97b8840-caec-4e91-b648-a3ade1a18a23"
      },
      "source": [
        "#Implementing cross validation\n",
        "from sklearn.model_selection import KFold \n",
        "from sklearn.metrics import accuracy_score\n",
        "\n",
        "kf = KFold(n_splits=20, random_state=None)\n",
        "model = LinearRegression()\n",
        "\n",
        "acc_score = []\n",
        "\n",
        "for train_index , test_index in kf.split(X):\n",
        "    X_train , X_test = X[train_index,:],X[test_index,:]\n",
        "    y_train , y_test = y[train_index] , y[test_index]\n",
        "    \n",
        "    model.fit(X_train,y_train)\n",
        "    y_pred = model.predict(X_test)\n",
        "    acc = r2_score(y_test, y_pred)\n",
        "    acc_score.append(acc)\n",
        "\n",
        "    \n",
        "calc_acc(acc_score)"
      ],
      "execution_count": 64,
      "outputs": [
        {
          "output_type": "stream",
          "text": [
            "accuracies [0.7124656930001434, 0.669063618132398, 0.7480844622369978, 0.71145166612969, 0.6552661064123584, 0.6778421399689276, 0.7076547326199152, 0.735707596745451, 0.700555308786615, 0.6016541959321982, 0.6657881029890101, 0.7104702914625156, 0.7225136011388097, 0.6952228194073791, 0.7046145307502676, 0.6961438958321913, 0.7352233610925918, 0.7012585612990077, 0.7164238898296135, 0.6957265728792013]\n",
            "Maximum accuracy 74.80844622369978  fold # 2\n"
          ],
          "name": "stdout"
        }
      ]
    },
    {
      "cell_type": "code",
      "metadata": {
        "id": "EUtiZYI69qo2",
        "colab": {
          "base_uri": "https://localhost:8080/"
        },
        "outputId": "b4b5f63b-0553-433c-c97b-4e313ca3c426"
      },
      "source": [
        "#Implementing cross validation\n",
        "from sklearn.model_selection import KFold \n",
        "from sklearn.metrics import accuracy_score\n",
        "\n",
        "k = 5\n",
        "kf = KFold(n_splits=20, random_state=None)\n",
        "from sklearn.linear_model import Ridge\n",
        "model = Ridge(alpha=500.0)\n",
        "model.fit(X_train, y_train)\n",
        "acc_score = []\n",
        "\n",
        "for train_index , test_index in kf.split(X):\n",
        "    X_train , X_test = X[train_index,:],X[test_index,:]\n",
        "    y_train , y_test = y[train_index] , y[test_index]\n",
        "    \n",
        "    model.fit(X_train,y_train)\n",
        "    y_pred = model.predict(X_test)\n",
        "    acc = r2_score(y_test, y_pred)\n",
        "    acc_score.append(acc)\n",
        "\n",
        "calc_acc(acc_score)"
      ],
      "execution_count": 65,
      "outputs": [
        {
          "output_type": "stream",
          "text": [
            "accuracies [0.6759134400751037, 0.6286829338838249, 0.6924410327399064, 0.6860623488267354, 0.6224607302763856, 0.6351013212575005, 0.6924243901243868, 0.6934156225106495, 0.6734924384542078, 0.5912126311208898, 0.654303211184941, 0.6629297673886199, 0.683819029820921, 0.6742943179045396, 0.6920710252731144, 0.6647703343691387, 0.7088933846550611, 0.6669947229071835, 0.6993247467801735, 0.6776199558396137]\n",
            "Maximum accuracy 70.88933846550611  fold # 16\n"
          ],
          "name": "stdout"
        }
      ]
    },
    {
      "cell_type": "code",
      "metadata": {
        "id": "lkGAH0_v9qo3",
        "colab": {
          "base_uri": "https://localhost:8080/"
        },
        "outputId": "6e4c8c37-e885-4300-ab75-384c08c201a5"
      },
      "source": [
        "#Implementing cross validation\n",
        "from sklearn.model_selection import KFold \n",
        "from sklearn.metrics import accuracy_score\n",
        "from sklearn.model_selection import StratifiedKFold\n",
        "\n",
        "Stratified= StratifiedKFold(n_splits=20)\n",
        "Stratified.get_n_splits(X, y)\n",
        "acc_score = []\n",
        "\n",
        "from sklearn.linear_model import Ridge\n",
        "model = Ridge(alpha=500.0)\n",
        "model.fit(X_train, y_train)\n",
        "\n",
        "StratifiedKFold(n_splits=20)\n",
        "for train_index , test_index in kf.split(X):\n",
        "    X_train , X_test = X[train_index,:],X[test_index,:]\n",
        "    y_train , y_test = y[train_index] , y[test_index]\n",
        "    \n",
        "    model.fit(X_train,y_train)\n",
        "    y_pred = model.predict(X_test)\n",
        "    acc = r2_score(y_test, y_pred)\n",
        "    acc_score.append(acc)\n",
        "\n",
        "calc_acc(acc_score)"
      ],
      "execution_count": 66,
      "outputs": [
        {
          "output_type": "stream",
          "text": [
            "accuracies [0.6759134400751037, 0.6286829338838249, 0.6924410327399064, 0.6860623488267354, 0.6224607302763856, 0.6351013212575005, 0.6924243901243868, 0.6934156225106495, 0.6734924384542078, 0.5912126311208898, 0.654303211184941, 0.6629297673886199, 0.683819029820921, 0.6742943179045396, 0.6920710252731144, 0.6647703343691387, 0.7088933846550611, 0.6669947229071835, 0.6993247467801735, 0.6776199558396137]\n",
            "Maximum accuracy 70.88933846550611  fold # 16\n"
          ],
          "name": "stdout"
        }
      ]
    },
    {
      "cell_type": "code",
      "metadata": {
        "id": "rlHliaWiEpEF"
      },
      "source": [
        ""
      ],
      "execution_count": 66,
      "outputs": []
    }
  ]
}