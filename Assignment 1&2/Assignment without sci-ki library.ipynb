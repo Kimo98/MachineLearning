{
  "nbformat": 4,
  "nbformat_minor": 0,
  "metadata": {
    "colab": {
      "name": "Karim_ Machine Learning.ipynb",
      "provenance": [],
      "collapsed_sections": []
    },
    "kernelspec": {
      "name": "python3",
      "display_name": "Python 3"
    },
    "language_info": {
      "name": "python"
    }
  },
  "cells": [
    {
      "cell_type": "code",
      "metadata": {
        "id": "PI5uUIxb8T3w"
      },
      "source": [
        "import pandas as pd\n",
        "import numpy as np\n",
        "import matplotlib.pyplot as plt\n",
        "dataset = pd.read_csv('house_prices_data_training_data.csv', sep=',', header=None)\n",
        "dataset.dropna(inplace=True)\n",
        "dataset = dataset.drop(0)\n",
        "dataset = dataset.drop(0, axis = 1)\n",
        "dataset = dataset.drop(1, axis = 1)\n",
        "\n",
        "dataset = dataset.convert_dtypes() \n",
        "\n",
        "dataset.apply(pd.to_numeric).dtypes                                             \n",
        "dataset = dataset.astype(float)"
      ],
      "execution_count": 49,
      "outputs": []
    },
    {
      "cell_type": "code",
      "metadata": {
        "id": "nvdFoYF38Zrg"
      },
      "source": [
        "def feature_normalize(X, mean=np.zeros(1), std=np.zeros(1)):\n",
        "    X = np.array(X)\n",
        "    if len(mean.shape) == 1 or len(std.shape) == 1:\n",
        "        mean = np.mean(X, axis=0)\n",
        "        std = np.std(X, axis=0, ddof=1)\n",
        "\n",
        "    X = (X - mean)/std\n",
        "    return X, mean, std\n",
        "def compute_cost(X, y, theta):\n",
        "    m = y.shape[0]\n",
        "    h = X.dot(theta)\n",
        "    J = (1/(2*m)) * ((h-y).T.dot(h-y))\n",
        "    return J\n",
        "\n",
        "def gradient_descent(X, y, theta, alpha, num_iters):\n",
        "    m = y.shape[0] \n",
        "    J_history = np.zeros(shape=(num_iters, 1))\n",
        "\n",
        "    for i in range(0, num_iters):\n",
        "        h = X.dot(theta)\n",
        "        diff_hy = h - y\n",
        "\n",
        "        delta = (1/m) * (diff_hy.T.dot(X))\n",
        "        theta = theta - (alpha * delta.T)\n",
        "        J_history[i] = compute_cost(X, y, theta)\n",
        "\n",
        "    return theta, J_history"
      ],
      "execution_count": 50,
      "outputs": []
    },
    {
      "cell_type": "code",
      "metadata": {
        "id": "Rjp-BplC-yVK",
        "colab": {
          "base_uri": "https://localhost:8080/",
          "height": 463
        },
        "outputId": "f7557120-a514-490c-ab5d-3bf575bc9ec8"
      },
      "source": [
        "X_norm, mu, sigma = feature_normalize(dataset)\n",
        "print('mean:', mu)\n",
        "print('standard deviation:', sigma)\n",
        "m = dataset.shape[0]\n",
        "X = np.hstack((np.ones((m,1)),X_norm))\n",
        "y = np.array(dataset.iloc[:, 2].astype(float).values).reshape(-1,1)\n",
        "theta = np.zeros(shape=(X.shape[1],1))\n",
        "alpha = [0.1, 0.05, 0.03, 0.01]\n",
        "colors = ['b','r','g','c']\n",
        "num_iters = 50\n",
        "for i in range(0, len(alpha)):\n",
        "    theta = np.zeros(shape=(X.shape[1],1))\n",
        "    theta, J_history = gradient_descent(X, y, theta, alpha[i], num_iters)\n",
        "    plt.plot(range(len(J_history)), J_history, colors[i], label='Alpha {}'.format(alpha[i]))\n",
        "plt.xlabel('Number of iterations');\n",
        "plt.ylabel('Cost J');\n",
        "plt.title('Selecting learning rates');\n",
        "plt.legend()\n",
        "plt.show()"
      ],
      "execution_count": 51,
      "outputs": [
        {
          "output_type": "stream",
          "text": [
            "mean: [ 5.33074250e+05  3.36296461e+00  2.06160064e+00  2.05182232e+03\n",
            "  1.57587327e+04  1.43316295e+00  7.83376854e-03  2.42457914e-01\n",
            "  3.44852492e+00  7.59236624e+00  1.74974232e+03  3.02080004e+02\n",
            "  1.96728235e+03  9.02535141e+01  9.80780698e+04  4.75602109e+01\n",
            " -1.22215112e+02  1.97323674e+03  1.32822707e+04]\n",
            "standard deviation: [3.64412151e+05 9.34032388e-01 7.58632316e-01 9.02744154e+02\n",
            " 4.24551425e+04 5.09662990e-01 8.81636686e-02 7.78856958e-01\n",
            " 6.67039405e-01 1.16949482e+00 8.05427363e+02 4.49443008e+02\n",
            " 2.79403058e+01 4.14717703e+02 5.41249245e+01 1.39644240e-01\n",
            " 1.39135290e-01 6.73186870e+02 2.73524150e+04]\n"
          ],
          "name": "stdout"
        },
        {
          "output_type": "display_data",
          "data": {
            "image/png": "[encoded data removed]",
            "text/plain": [
              "<Figure size 432x288 with 1 Axes>"
            ]
          },
          "metadata": {
            "tags": [],
            "needs_background": "light"
          }
        }
      ]
    },
    {
      "cell_type": "code",
      "metadata": {
        "colab": {
          "base_uri": "https://localhost:8080/",
          "height": 388
        },
        "id": "5j-7Q-LXBdG1",
        "outputId": "c03c09cd-5322-4826-b245-b360bc11fd8a"
      },
      "source": [
        "iterations = 250\n",
        "alpha = 0.1\n",
        "theta, j = gradient_descent(X, y, theta, alpha, iterations)\n",
        "print('Thetas')\n",
        "print(theta)\n",
        "\n",
        "bedrooms = (2, - mu[0]/sigma[0])\n",
        "bathrooms = (1.75, - mu[1]/sigma[1])\n",
        "sqft_living = (3000, mu[2]/sigma[2])\n",
        "sqft_lot = (5560, mu[3]/sigma[3])\n",
        "floors = (1.5, mu[4]/sigma[4])\n",
        "waterfront = (0, mu[5]/sigma[5])\n",
        "view = (4, mu[6]/sigma[6])\n",
        "condition = (5, mu[7]/sigma[7])\n",
        "grade = (11, mu[8]/sigma[8])\n",
        "sqft_above = (1300, mu[9]/sigma[9])\n",
        "sqft_basement = (300, mu[10]/sigma[10])\n",
        "yr_built = (2004, mu[11]/sigma[11])\n",
        "yr_renovated = (1800, mu[12]/sigma[12])\n",
        "zipcode = (98017, mu[13]/sigma[13])\n",
        "lat = (47.5316, mu[14]/sigma[14])\n",
        "long_ = (-122.115, mu[15]/sigma[15])\n",
        "sqft_living15 = (1700, mu[16]/sigma[16])\n",
        "sqft_lot15 = (3770, mu[17]/sigma[17])\n",
        "\n",
        "y_pred = theta[0] + theta[1]*bedrooms + theta[2]*bathrooms + theta[3]*sqft_living + theta[4]*sqft_lot + theta[5]*floors + theta[6]*waterfront + theta[7]*view + theta[8]*condition + theta[9]*grade + theta[10]*sqft_above + theta[11]*sqft_basement + theta[12]*yr_built + theta[13]*yr_renovated + theta[14]*zipcode + theta[15]*lat + theta[16]*long_ + theta[17]*sqft_living15 + theta[18]*sqft_lot15\n",
        "f'Price of a house with 1650 square feet and 3 bedrooms: {y_pred[0]}$'"
      ],
      "execution_count": 52,
      "outputs": [
        {
          "output_type": "stream",
          "text": [
            "Thetas\n",
            "[[ 2.06160064e+00]\n",
            " [ 4.36136659e-04]\n",
            " [ 1.13119183e-04]\n",
            " [ 7.56835903e-01]\n",
            " [ 7.76800922e-04]\n",
            " [ 4.49622710e-05]\n",
            " [ 3.19657425e-04]\n",
            " [-1.31744205e-04]\n",
            " [ 4.01519841e-05]\n",
            " [ 2.08771402e-04]\n",
            " [-7.58462619e-04]\n",
            " [ 6.20533146e-04]\n",
            " [ 4.48239515e-04]\n",
            " [ 1.14614056e-03]\n",
            " [ 2.75714826e-04]\n",
            " [ 1.13547466e-06]\n",
            " [ 6.31015720e-05]\n",
            " [-2.28917121e-04]\n",
            " [-3.13946836e-04]\n",
            " [-9.39177481e-05]]\n"
          ],
          "name": "stdout"
        },
        {
          "output_type": "execute_result",
          "data": {
            "application/vnd.google.colaboratory.intrinsic+json": {
              "type": "string"
            },
            "text/plain": [
              "'Price of a house with 1650 square feet and 3 bedrooms: 2304.497264678776$'"
            ]
          },
          "metadata": {
            "tags": []
          },
          "execution_count": 52
        }
      ]
    },
    {
      "cell_type": "code",
      "metadata": {
        "id": "ngNfF3DBBdcT"
      },
      "source": [
        "def normal_eqn(X, y):\n",
        "    inv = np.linalg.pinv(X.T.dot(X))\n",
        "    theta = inv.dot(X.T).dot(y)\n",
        "    return theta"
      ],
      "execution_count": 53,
      "outputs": []
    },
    {
      "cell_type": "code",
      "metadata": {
        "colab": {
          "base_uri": "https://localhost:8080/",
          "height": 35
        },
        "id": "e-vopgR7Bi6S",
        "outputId": "995df038-7be9-48cc-a73b-944567824424"
      },
      "source": [
        "Xe = np.hstack((np.ones((m,1)),X_norm))\n",
        "theta_e = normal_eqn(Xe, y) \n",
        " \n",
        "bedrooms = (4, - mu[0]/sigma[0])\n",
        "bathrooms = (1.25, - mu[1]/sigma[1])\n",
        "sqft_living = (1420, mu[2]/sigma[2])\n",
        "sqft_lot = (6230, mu[3]/sigma[3])\n",
        "floors = (3, mu[4]/sigma[4])\n",
        "waterfront = (0, mu[5]/sigma[5])\n",
        "view = (2, mu[6]/sigma[6])\n",
        "condition = (4, mu[7]/sigma[7])\n",
        "grade = (8, mu[8]/sigma[8])\n",
        "sqft_above = (880, mu[9]/sigma[9])\n",
        "sqft_basement = (590, mu[10]/sigma[10])\n",
        "yr_built = (1940, mu[11]/sigma[11])\n",
        "yr_renovated = (1880, mu[12]/sigma[12])\n",
        "zipcode = (98019, mu[13]/sigma[13])\n",
        "lat = (47.7088, mu[14]/sigma[14])\n",
        "long_ = (-122.045, mu[15]/sigma[15])\n",
        "sqft_living15 = (1800, mu[16]/sigma[16])\n",
        "sqft_lot15 = (6730, mu[17]/sigma[17])\n",
        " \n",
        "y_pred = theta_e[0] + theta_e[1]*bedrooms + theta_e[2]*bathrooms + theta_e[3]*sqft_living + theta_e[4]*sqft_lot + theta_e[5]*floors + theta_e[6]*waterfront + theta_e[7]*view + theta_e[8]*condition + theta_e[9]*grade + theta_e[10]*sqft_above + theta_e[11]*sqft_basement + theta_e[12]*yr_built + theta_e[13]*yr_renovated + theta_e[14]*zipcode + theta_e[15]*lat + theta_e[16]*long_ + theta_e[17]*sqft_living15 + theta_e[18]*sqft_lot15\n",
        "f'Price of a house with 1650 square feet and 3 bedrooms: {y_pred[0]}$'"
      ],
      "execution_count": 54,
      "outputs": [
        {
          "output_type": "execute_result",
          "data": {
            "application/vnd.google.colaboratory.intrinsic+json": {
              "type": "string"
            },
            "text/plain": [
              "'Price of a house with 1650 square feet and 3 bedrooms: 1079.3194891348307$'"
            ]
          },
          "metadata": {
            "tags": []
          },
          "execution_count": 54
        }
      ]
    },
    {
      "cell_type": "code",
      "metadata": {
        "id": "HXbCAc9eoWo8"
      },
      "source": [
        "dataset = pd.read_csv('house_prices_data_training_data.csv', sep=',')\n",
        "dataset.dropna(inplace=True)\n",
        "dataset = dataset.drop(columns='id', axis = 1)\n",
        "dataset = dataset.drop(columns='date', axis = 1)\n",
        "\n",
        "dataset = dataset.convert_dtypes() \n",
        "\n",
        "dataset = dataset.astype(float)\n",
        "y = dataset.iloc[:, 1]\n",
        "X = dataset.iloc[:, 2:]\n",
        "X[\"bathrooms1\"] = X[\"bathrooms\"]**2\n",
        "X[\"floors1\"] = X[\"floors\"]**2\n",
        "X[\"sqft_living1\"] = X[\"sqft_living\"]**2\n",
        "X[\"sqft_living2\"] = X[\"sqft_living\"]**3\n",
        "X[\"sqft_lot151\"] = X[\"sqft_lot15\"]**4\n",
        "X[\"condition1\"] = X[\"condition\"]**2\n",
        "X[\"zipcode1\"] = X[\"zipcode\"]**3\n"
      ],
      "execution_count": 55,
      "outputs": []
    },
    {
      "cell_type": "code",
      "metadata": {
        "colab": {
          "base_uri": "https://localhost:8080/",
          "height": 463
        },
        "id": "UJ_4apFXxn98",
        "outputId": "1c2ef3a9-bee2-4cf4-cc74-3cb43eb79965"
      },
      "source": [
        "X_norm, mu, sigma = feature_normalize(dataset)\n",
        "print('mean:', mu)\n",
        "print('standard deviation:', sigma)\n",
        "m = dataset.shape[0]\n",
        "X = np.hstack((np.ones((m,1)),X_norm))\n",
        "y = np.array(dataset.iloc[:, 2].astype(float).values).reshape(-1,1)\n",
        "theta = np.zeros(shape=(X.shape[1],1))\n",
        "alpha = [0.1, 0.05, 0.03, 0.01]\n",
        "colors = ['r','g','b','y']\n",
        "for i in range(0, len(alpha)):\n",
        "    theta = np.zeros(shape=(X.shape[1],1))\n",
        "    theta, J_history = gradient_descent(X, y, theta, alpha[i], 50)\n",
        "    plt.plot(range(len(J_history)), J_history, colors[i], label='Alpha {}'.format(alpha[i]))\n",
        "plt.xlabel('Number of iterations');\n",
        "plt.ylabel('Cost J');\n",
        "plt.title('Selecting learning rates');\n",
        "plt.legend()\n",
        "plt.show()"
      ],
      "execution_count": 56,
      "outputs": [
        {
          "output_type": "stream",
          "text": [
            "mean: [ 5.33074250e+05  3.36296461e+00  2.06160064e+00  2.05182232e+03\n",
            "  1.57587327e+04  1.43316295e+00  7.83376854e-03  2.42457914e-01\n",
            "  3.44852492e+00  7.59236624e+00  1.74974232e+03  3.02080004e+02\n",
            "  1.96728235e+03  9.02535141e+01  9.80780698e+04  4.75602109e+01\n",
            " -1.22215112e+02  1.97323674e+03  1.32822707e+04]\n",
            "standard deviation: [3.64412151e+05 9.34032388e-01 7.58632316e-01 9.02744154e+02\n",
            " 4.24551425e+04 5.09662990e-01 8.81636686e-02 7.78856958e-01\n",
            " 6.67039405e-01 1.16949482e+00 8.05427363e+02 4.49443008e+02\n",
            " 2.79403058e+01 4.14717703e+02 5.41249245e+01 1.39644240e-01\n",
            " 1.39135290e-01 6.73186870e+02 2.73524150e+04]\n"
          ],
          "name": "stdout"
        },
        {
          "output_type": "display_data",
          "data": {
            "image/png": "[encoded data removed]",
            "text/plain": [
              "<Figure size 432x288 with 1 Axes>"
            ]
          },
          "metadata": {
            "tags": [],
            "needs_background": "light"
          }
        }
      ]
    },
    {
      "cell_type": "code",
      "metadata": {
        "id": "B73M-CxoAeH-",
        "colab": {
          "base_uri": "https://localhost:8080/"
        },
        "outputId": "0942b2c9-c755-4b86-eb8b-c323940b3c3f"
      },
      "source": [
        "theta, _ = gradient_descent(X, y, theta,  0.1, 100)\n",
        "print('Theta calculated')\n",
        "print(theta)"
      ],
      "execution_count": 57,
      "outputs": [
        {
          "output_type": "stream",
          "text": [
            "Theta calculated\n",
            "[[ 2.06156751e+00]\n",
            " [ 5.73791645e-03]\n",
            " [ 5.86069544e-03]\n",
            " [ 7.11175298e-01]\n",
            " [ 1.44455266e-02]\n",
            " [ 1.08288511e-03]\n",
            " [ 1.21825852e-02]\n",
            " [-1.44386475e-03]\n",
            " [ 8.12084903e-06]\n",
            " [ 4.73634332e-03]\n",
            " [-3.27546638e-03]\n",
            " [ 8.69845848e-03]\n",
            " [ 1.34269265e-02]\n",
            " [ 2.26147603e-02]\n",
            " [ 6.31795627e-03]\n",
            " [ 2.47205729e-04]\n",
            " [ 5.87856562e-04]\n",
            " [-2.67830073e-03]\n",
            " [-7.37489362e-03]\n",
            " [-1.71285622e-03]]\n"
          ],
          "name": "stdout"
        }
      ]
    },
    {
      "cell_type": "code",
      "metadata": {
        "id": "S7DQwD_vIitF"
      },
      "source": [
        "df = pd.read_csv('house_prices_data_training_data.csv', sep=',')\n",
        "\n",
        "def split_train_valid_test(data,valid_ratio,test_ratio):\n",
        "    shuffled_indcies=np.random.permutation(len(data))\n",
        "    valid_set_size= int(len(data)*valid_ratio)\n",
        "    valid_indcies=shuffled_indcies[:valid_set_size]\n",
        "    test_set_size= int(len(data)*test_ratio)\n",
        "    test_indcies=shuffled_indcies[valid_set_size:test_set_size+valid_set_size]\n",
        "    train_indices=shuffled_indcies[test_set_size:]\n",
        "    return data.iloc[train_indices],data.iloc[valid_indcies],data.iloc[test_indcies]\n",
        "\n",
        "train_set,valid_set,test_set=split_train_valid_test(dataset,valid_ratio=0.2,test_ratio=0.2)"
      ],
      "execution_count": 58,
      "outputs": []
    },
    {
      "cell_type": "code",
      "metadata": {
        "colab": {
          "base_uri": "https://localhost:8080/"
        },
        "id": "GSeUBKjfI8iq",
        "outputId": "c6795055-b9b9-44c7-9f88-a5afb73665f8"
      },
      "source": [
        "y = train_set.iloc[:, 1]\n",
        "X = train_set.iloc[:, 2:]\n",
        "X[\"bathrooms1\"] = X[\"bathrooms\"]**2\n",
        "X[\"floors1\"] = X[\"floors\"]**2\n",
        "X[\"sqft_living1\"] = X[\"sqft_living\"]**2\n",
        "X[\"sqft_living2\"] = X[\"sqft_living\"]**3\n",
        "X[\"sqft_lot151\"] = X[\"sqft_lot15\"]**4\n",
        "X[\"condition1\"] = X[\"condition\"]**2\n",
        "X[\"zipcode1\"] = X[\"zipcode\"]**3\n",
        "X_norm, mu, sigma = feature_normalize(dataset)\n",
        "print('mean:', mu)\n",
        "print('standard deviation:', sigma)\n",
        "m = dataset.shape[0]\n",
        "X = np.hstack((np.ones((m,1)),X_norm))\n",
        "\n",
        "y = np.array(dataset.iloc[:, 2].astype(float).values).reshape(-1,1)\n",
        "theta = np.zeros(shape=(X.shape[1],1))\n",
        "alpha = [0.1, 0.05, 0.03, 0.01]\n",
        "colors = ['b','r','g','c']\n",
        "num_iters = 50\n",
        "X.shape"
      ],
      "execution_count": 59,
      "outputs": [
        {
          "output_type": "stream",
          "text": [
            "mean: [ 5.33074250e+05  3.36296461e+00  2.06160064e+00  2.05182232e+03\n",
            "  1.57587327e+04  1.43316295e+00  7.83376854e-03  2.42457914e-01\n",
            "  3.44852492e+00  7.59236624e+00  1.74974232e+03  3.02080004e+02\n",
            "  1.96728235e+03  9.02535141e+01  9.80780698e+04  4.75602109e+01\n",
            " -1.22215112e+02  1.97323674e+03  1.32822707e+04]\n",
            "standard deviation: [3.64412151e+05 9.34032388e-01 7.58632316e-01 9.02744154e+02\n",
            " 4.24551425e+04 5.09662990e-01 8.81636686e-02 7.78856958e-01\n",
            " 6.67039405e-01 1.16949482e+00 8.05427363e+02 4.49443008e+02\n",
            " 2.79403058e+01 4.14717703e+02 5.41249245e+01 1.39644240e-01\n",
            " 1.39135290e-01 6.73186870e+02 2.73524150e+04]\n"
          ],
          "name": "stdout"
        },
        {
          "output_type": "stream",
          "text": [
            "/usr/local/lib/python3.7/dist-packages/ipykernel_launcher.py:3: SettingWithCopyWarning: \n",
            "A value is trying to be set on a copy of a slice from a DataFrame.\n",
            "Try using .loc[row_indexer,col_indexer] = value instead\n",
            "\n",
            "See the caveats in the documentation: https://pandas.pydata.org/pandas-docs/stable/user_guide/indexing.html#returning-a-view-versus-a-copy\n",
            "  This is separate from the ipykernel package so we can avoid doing imports until\n"
          ],
          "name": "stderr"
        },
        {
          "output_type": "execute_result",
          "data": {
            "text/plain": [
              "(17999, 20)"
            ]
          },
          "metadata": {
            "tags": []
          },
          "execution_count": 59
        }
      ]
    },
    {
      "cell_type": "code",
      "metadata": {
        "colab": {
          "base_uri": "https://localhost:8080/",
          "height": 295
        },
        "id": "flfhfpuvKBeg",
        "outputId": "f53d49c7-e336-4a76-c605-63c4c18ce2ac"
      },
      "source": [
        "for i in range(0, len(alpha)):\n",
        "    theta = np.zeros(shape=(X.shape[1],1))\n",
        "    theta, J_history = gradient_descent(X, y, theta, alpha[i], num_iters)\n",
        "    plt.plot(range(len(J_history)), J_history, colors[i], label='Alpha {}'.format(alpha[i]))\n",
        "plt.xlabel('Number of iterations');\n",
        "plt.ylabel('Cost J');\n",
        "plt.title('Selecting learning rates');\n",
        "plt.legend()\n",
        "plt.show()"
      ],
      "execution_count": 60,
      "outputs": [
        {
          "output_type": "display_data",
          "data": {
            "image/png": "[encoded data removed]",
            "text/plain": [
              "<Figure size 432x288 with 1 Axes>"
            ]
          },
          "metadata": {
            "tags": [],
            "needs_background": "light"
          }
        }
      ]
    }
  ]
}